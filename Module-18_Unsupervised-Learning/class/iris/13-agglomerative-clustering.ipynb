{
 "cells": [
  {
   "cell_type": "code",
   "execution_count": 1,
   "metadata": {},
   "outputs": [],
   "source": [
    "from sklearn.datasets import load_iris\n",
    "import plotly.express as px\n",
    "from matplotlib import pyplot as plt\n",
    "from sklearn.cluster import AgglomerativeClustering\n",
    "from sklearn.cluster import KMeans\n",
    "from sklearn.metrics import silhouette_score"
   ]
  },
  {
   "cell_type": "code",
   "execution_count": 2,
   "metadata": {},
   "outputs": [],
   "source": [
    "result = load_iris()"
   ]
  },
  {
   "cell_type": "code",
   "execution_count": 3,
   "metadata": {},
   "outputs": [],
   "source": [
    "feature_names = result[\"feature_names\"]\n",
    "target_names = result[\"target_names\"]"
   ]
  },
  {
   "cell_type": "code",
   "execution_count": 4,
   "metadata": {},
   "outputs": [],
   "source": [
    "X = result[\"data\"]"
   ]
  },
  {
   "cell_type": "code",
   "execution_count": 5,
   "metadata": {},
   "outputs": [
    {
     "data": {
      "text/plain": [
       "{2: 0.6867350732769776,\n",
       " 3: 0.5121107753649304,\n",
       " 4: 0.2819391913200382,\n",
       " 5: 0.28381196455243707,\n",
       " 6: 0.22144270332813376,\n",
       " 7: 0.13276311217217843,\n",
       " 8: 0.058702851453784156,\n",
       " 9: 0.02243027834876031}"
      ]
     },
     "execution_count": 5,
     "metadata": {},
     "output_type": "execute_result"
    }
   ],
   "source": [
    "scores = {}\n",
    "for n_clusters in range(2, 10):\n",
    "    clusterer = AgglomerativeClustering(linkage=\"single\", n_clusters=n_clusters)\n",
    "    clusterer.fit(X)\n",
    "    labels = clusterer.labels_\n",
    "    score = silhouette_score(X, labels)\n",
    "    scores[n_clusters] = score\n",
    "scores"
   ]
  },
  {
   "cell_type": "code",
   "execution_count": 6,
   "metadata": {},
   "outputs": [
    {
     "data": {
      "text/plain": [
       "{2: 0.681046169211746,\n",
       " 3: 0.5528190123564091,\n",
       " 4: 0.4980505049972867,\n",
       " 5: 0.4887488870931048,\n",
       " 6: 0.3648340039670018,\n",
       " 7: 0.3546333456823977,\n",
       " 8: 0.3372939453058163,\n",
       " 9: 0.3439103447481878}"
      ]
     },
     "execution_count": 6,
     "metadata": {},
     "output_type": "execute_result"
    }
   ],
   "source": [
    "scores = {}\n",
    "for n_clusters in range(2, 10):\n",
    "    clusterer = KMeans(n_clusters=n_clusters)\n",
    "    clusterer.fit(X)\n",
    "    labels = clusterer.labels_\n",
    "    score = silhouette_score(X, labels)\n",
    "    scores[n_clusters] = score\n",
    "scores"
   ]
  }
 ],
 "metadata": {
  "kernelspec": {
   "display_name": "Python 3",
   "language": "python",
   "name": "python3"
  },
  "language_info": {
   "codemirror_mode": {
    "name": "ipython",
    "version": 3
   },
   "file_extension": ".py",
   "mimetype": "text/x-python",
   "name": "python",
   "nbconvert_exporter": "python",
   "pygments_lexer": "ipython3",
   "version": "3.7.5"
  }
 },
 "nbformat": 4,
 "nbformat_minor": 4
}
