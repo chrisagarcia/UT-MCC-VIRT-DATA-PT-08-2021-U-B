{
 "cells": [
  {
   "cell_type": "code",
   "execution_count": null,
   "metadata": {},
   "outputs": [],
   "source": [
    "import os\n",
    "import csv"
   ]
  },
  {
   "cell_type": "code",
   "execution_count": null,
   "metadata": {},
   "outputs": [],
   "source": [
    "# Path to collect data from the Resources folder\n",
    "wrestling_csv = os.path.join('..', 'Resources', 'WWE-Data-2016.csv')"
   ]
  },
  {
   "cell_type": "code",
   "execution_count": 3,
   "metadata": {},
   "outputs": [],
   "source": [
    "# Define the function and have it accept the 'wrestler_data' as its sole parameter\n",
    "def print_percentages(wrestler_data):\n",
    "    # For readability, it can help to assign your values to variables with descriptive names\n",
    "    name = str(wrestler_data[0])\n",
    "    wins = int(wrestler_data[1])\n",
    "    losses = int(wrestler_data[2])\n",
    "    draws = int(wrestler_data[3])\n",
    "\n",
    "    # Total matches can be found by adding wins, losses, and draws together\n",
    "    total_matches = wins + losses + draws\n",
    "\n",
    "    # Win percent can be found by dividing the the total wins by the total matches and multiplying by 100\n",
    "    win_percent = (wins / total_matches) * 100\n",
    "\n",
    "    # Loss percent can be found by dividing the total losses by the total matches and multiplying by 100\n",
    "    loss_percent = (losses / total_matches) * 100\n",
    "\n",
    "    # Draw percent can be found by dividing the total draws by the total matches and multiplying by 100\n",
    "    draw_percent = (draws / total_matches) * 100\n",
    "\n",
    "    # Print out the wrestler's name and their percentage stats\n",
    "    print(f\"Stats for {name}\")\n",
    "    print(f\"WIN PERCENT: {str(win_percent)}\")\n",
    "    print(f\"LOSS PERCENT: {str(loss_percent)}\")\n",
    "    print(f\"DRAW PERCENT: {str(draw_percent)}\")"
   ]
  },
  {
   "cell_type": "code",
   "execution_count": 4,
   "metadata": {},
   "outputs": [
    {
     "name": "stdout",
     "output_type": "stream",
     "text": [
      "Stats for Dean\n",
      "WIN PERCENT: 65.19607843137256\n",
      "LOSS PERCENT: 32.84313725490196\n",
      "DRAW PERCENT: 1.9607843137254901\n"
     ]
    }
   ],
   "source": [
    "print_percentages([\"Dean\", 133, 67, 4])"
   ]
  },
  {
   "cell_type": "code",
   "execution_count": 5,
   "metadata": {},
   "outputs": [
    {
     "name": "stdout",
     "output_type": "stream",
     "text": [
      "Stats for Dean\n",
      "WIN PERCENT: 65.19607843137256\n",
      "LOSS PERCENT: 32.84313725490196\n",
      "DRAW PERCENT: 1.9607843137254901\n"
     ]
    }
   ],
   "source": [
    "print_percentages((\"Dean\", 133, 67, 4))"
   ]
  },
  {
   "cell_type": "code",
   "execution_count": 6,
   "metadata": {},
   "outputs": [
    {
     "name": "stdin",
     "output_type": "stream",
     "text": [
      "What wrestler do you want to look for?  Zack Ryder\n"
     ]
    },
    {
     "name": "stdout",
     "output_type": "stream",
     "text": [
      "Stats for Zack Ryder\n",
      "WIN PERCENT: 69.18604651162791\n",
      "LOSS PERCENT: 29.651162790697676\n",
      "DRAW PERCENT: 1.1627906976744187\n"
     ]
    }
   ],
   "source": [
    "# Read in the CSV file\n",
    "with open(wrestling_csv, 'r') as csvfile:\n",
    "\n",
    "    # Split the data on commas\n",
    "    csvreader = csv.reader(csvfile, delimiter=',')\n",
    "\n",
    "    header = next(csvreader)\n",
    "\n",
    "    # Prompt the user for what wrestler they would like to search for\n",
    "    name_to_check = input(\"What wrestler do you want to look for? \")\n",
    "\n",
    "    # Loop through the data\n",
    "    for row in csvreader:\n",
    "\n",
    "        # If the wrestler's name in a row is equal to that which the user input, run the 'print_percentages()' function\n",
    "        if name_to_check == row[0]:\n",
    "            print_percentages(row)"
   ]
  },
  {
   "cell_type": "code",
   "execution_count": null,
   "metadata": {},
   "outputs": [],
   "source": []
  }
 ],
 "metadata": {
  "kernelspec": {
   "display_name": "Python 3",
   "language": "python",
   "name": "python3"
  },
  "language_info": {
   "codemirror_mode": {
    "name": "ipython",
    "version": 3
   },
   "file_extension": ".py",
   "mimetype": "text/x-python",
   "name": "python",
   "nbconvert_exporter": "python",
   "pygments_lexer": "ipython3",
   "version": "3.7.5"
  }
 },
 "nbformat": 4,
 "nbformat_minor": 4
}
