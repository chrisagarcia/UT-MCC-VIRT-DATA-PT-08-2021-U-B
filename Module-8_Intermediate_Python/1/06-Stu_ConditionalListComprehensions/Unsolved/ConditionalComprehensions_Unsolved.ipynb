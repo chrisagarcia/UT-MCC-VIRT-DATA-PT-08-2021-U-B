{
 "cells": [
  {
   "cell_type": "markdown",
   "metadata": {},
   "source": [
    "Use conditional list comprehensions to create the lists requested in the following cells.\n",
    "\n",
    "**Hint**: Remember the modulo operator (%) !\n",
    "\n",
    "`x % y` gives the remainder if `x` is divided by `y`. So, for instance `x % 2` will be `0` when x is even, and `1` when x is odd"
   ]
  },
  {
   "cell_type": "code",
   "execution_count": 4,
   "metadata": {},
   "outputs": [
    {
     "data": {
      "text/plain": [
       "[0,\n",
       " 3,\n",
       " 6,\n",
       " 9,\n",
       " 12,\n",
       " 15,\n",
       " 18,\n",
       " 21,\n",
       " 24,\n",
       " 27,\n",
       " 30,\n",
       " 33,\n",
       " 36,\n",
       " 39,\n",
       " 42,\n",
       " 45,\n",
       " 48,\n",
       " 51,\n",
       " 54,\n",
       " 57,\n",
       " 60,\n",
       " 63,\n",
       " 66,\n",
       " 69,\n",
       " 72,\n",
       " 75,\n",
       " 78,\n",
       " 81,\n",
       " 84,\n",
       " 87,\n",
       " 90,\n",
       " 93,\n",
       " 96,\n",
       " 99]"
      ]
     },
     "execution_count": 4,
     "metadata": {},
     "output_type": "execute_result"
    }
   ],
   "source": [
    "# Make a list of numbers up to 100 that are divisible by three\n",
    "[e for e in range(100) if e % 3 == 0]"
   ]
  },
  {
   "cell_type": "code",
   "execution_count": 5,
   "metadata": {},
   "outputs": [],
   "source": [
    "# Use conditional list comprehensions to create a list of all the pet names that are for dogs\n",
    "pets = [{\n",
    "    'name': 'Fido',\n",
    "    'age': 4,\n",
    "    'type': 'dog'\n",
    "}, {\n",
    "    'name': 'Rex',\n",
    "    'age': 2,\n",
    "    'type': 'dog'\n",
    "}, {\n",
    "    'name': 'Puddles',\n",
    "    'age': 7,\n",
    "    'type': 'wombat'\n",
    "}, {\n",
    "    'name': 'Tuna',\n",
    "    'age': 6,\n",
    "    'type': 'cat'\n",
    "}, {\n",
    "    'name': 'Springer',\n",
    "    'age': 5,\n",
    "    'type': 'dog'\n",
    "}]\n",
    "\n"
   ]
  },
  {
   "cell_type": "code",
   "execution_count": 8,
   "metadata": {},
   "outputs": [
    {
     "data": {
      "text/plain": [
       "['Fido', 'Rex', 'Springer']"
      ]
     },
     "execution_count": 8,
     "metadata": {},
     "output_type": "execute_result"
    }
   ],
   "source": [
    "[pet[\"name\"] for pet in pets if pet[\"type\"] == \"dog\"]"
   ]
  },
  {
   "cell_type": "code",
   "execution_count": 12,
   "metadata": {},
   "outputs": [
    {
     "data": {
      "text/plain": [
       "[0,\n",
       " 3,\n",
       " 5,\n",
       " 6,\n",
       " 9,\n",
       " 10,\n",
       " 12,\n",
       " 15,\n",
       " 18,\n",
       " 20,\n",
       " 21,\n",
       " 24,\n",
       " 25,\n",
       " 27,\n",
       " 30,\n",
       " 33,\n",
       " 35,\n",
       " 36,\n",
       " 39,\n",
       " 40,\n",
       " 42,\n",
       " 45,\n",
       " 48,\n",
       " 50,\n",
       " 51,\n",
       " 54,\n",
       " 55,\n",
       " 57,\n",
       " 60,\n",
       " 63,\n",
       " 65,\n",
       " 66,\n",
       " 69,\n",
       " 70,\n",
       " 72,\n",
       " 75,\n",
       " 78,\n",
       " 80,\n",
       " 81,\n",
       " 84,\n",
       " 85,\n",
       " 87,\n",
       " 90,\n",
       " 93,\n",
       " 95,\n",
       " 96,\n",
       " 99]"
      ]
     },
     "execution_count": 12,
     "metadata": {},
     "output_type": "execute_result"
    }
   ],
   "source": [
    "# Make a list of numbers up to 100 that are divisible by three OR divisible by five\n",
    "[e for e in range(100) if e % 3 == 0 or e % 5 == 0]"
   ]
  },
  {
   "cell_type": "code",
   "execution_count": 35,
   "metadata": {},
   "outputs": [],
   "source": [
    "def bad_fizz_buzz(e):\n",
    "    if e % 3 == 0:\n",
    "        return \"Fizz\"\n",
    "    elif e % 5 == 0:\n",
    "        return \"Buzz\"\n",
    "    elif e % 15:\n",
    "        return \"FizzBuzz\"\n",
    "    else:\n",
    "        return e"
   ]
  },
  {
   "cell_type": "code",
   "execution_count": 36,
   "metadata": {},
   "outputs": [
    {
     "data": {
      "text/plain": [
       "'Fizz'"
      ]
     },
     "execution_count": 36,
     "metadata": {},
     "output_type": "execute_result"
    }
   ],
   "source": [
    "bad_fizz_buzz(3)"
   ]
  },
  {
   "cell_type": "code",
   "execution_count": 37,
   "metadata": {},
   "outputs": [
    {
     "data": {
      "text/plain": [
       "'Buzz'"
      ]
     },
     "execution_count": 37,
     "metadata": {},
     "output_type": "execute_result"
    }
   ],
   "source": [
    "bad_fizz_buzz(5)"
   ]
  },
  {
   "cell_type": "code",
   "execution_count": 38,
   "metadata": {},
   "outputs": [
    {
     "data": {
      "text/plain": [
       "'Fizz'"
      ]
     },
     "execution_count": 38,
     "metadata": {},
     "output_type": "execute_result"
    }
   ],
   "source": [
    "bad_fizz_buzz(15)"
   ]
  },
  {
   "cell_type": "code",
   "execution_count": 39,
   "metadata": {},
   "outputs": [],
   "source": [
    "def good_fizz_buzz(e):\n",
    "    if e % 15 == 0:\n",
    "        return \"FizzBuzz\"\n",
    "    elif e % 5 == 0:\n",
    "        return \"Buzz\"\n",
    "    elif e % 3 == 0:\n",
    "        return \"Fizz\"\n",
    "    else:\n",
    "        return e"
   ]
  },
  {
   "cell_type": "code",
   "execution_count": 40,
   "metadata": {},
   "outputs": [
    {
     "data": {
      "text/plain": [
       "'Fizz'"
      ]
     },
     "execution_count": 40,
     "metadata": {},
     "output_type": "execute_result"
    }
   ],
   "source": [
    "good_fizz_buzz(3)"
   ]
  },
  {
   "cell_type": "code",
   "execution_count": 41,
   "metadata": {},
   "outputs": [
    {
     "data": {
      "text/plain": [
       "'Buzz'"
      ]
     },
     "execution_count": 41,
     "metadata": {},
     "output_type": "execute_result"
    }
   ],
   "source": [
    "good_fizz_buzz(5)"
   ]
  },
  {
   "cell_type": "code",
   "execution_count": 42,
   "metadata": {},
   "outputs": [
    {
     "data": {
      "text/plain": [
       "'FizzBuzz'"
      ]
     },
     "execution_count": 42,
     "metadata": {},
     "output_type": "execute_result"
    }
   ],
   "source": [
    "good_fizz_buzz(15)"
   ]
  },
  {
   "cell_type": "code",
   "execution_count": 43,
   "metadata": {},
   "outputs": [],
   "source": [
    "# BONUS: Make a list comprehension that implements FizzBuzz on the previous list\n",
    "# FizzBuzz replaces multiples of 3 with \"Fizz\", multiples of 5 with \"Buzz\" and multiples of both 3 and 5 with \"FizzBuzz\"\n",
    "# HINT: use a conditional in the expression at the beginning of the list comprehension"
   ]
  },
  {
   "cell_type": "code",
   "execution_count": 44,
   "metadata": {},
   "outputs": [
    {
     "data": {
      "text/plain": [
       "['FizzBuzz',\n",
       " 16,\n",
       " 17,\n",
       " 'Fizz',\n",
       " 19,\n",
       " 'Buzz',\n",
       " 'Fizz',\n",
       " 22,\n",
       " 23,\n",
       " 'Fizz',\n",
       " 'Buzz',\n",
       " 26,\n",
       " 'Fizz',\n",
       " 28,\n",
       " 29,\n",
       " 'FizzBuzz',\n",
       " 31,\n",
       " 32,\n",
       " 'Fizz',\n",
       " 34,\n",
       " 'Buzz',\n",
       " 'Fizz',\n",
       " 37,\n",
       " 38,\n",
       " 'Fizz',\n",
       " 'Buzz',\n",
       " 41,\n",
       " 'Fizz',\n",
       " 43,\n",
       " 44,\n",
       " 'FizzBuzz',\n",
       " 46,\n",
       " 47,\n",
       " 'Fizz',\n",
       " 49,\n",
       " 'Buzz',\n",
       " 'Fizz',\n",
       " 52,\n",
       " 53,\n",
       " 'Fizz',\n",
       " 'Buzz',\n",
       " 56,\n",
       " 'Fizz',\n",
       " 58,\n",
       " 59,\n",
       " 'FizzBuzz',\n",
       " 61,\n",
       " 62,\n",
       " 'Fizz',\n",
       " 64,\n",
       " 'Buzz',\n",
       " 'Fizz',\n",
       " 67,\n",
       " 68,\n",
       " 'Fizz',\n",
       " 'Buzz',\n",
       " 71,\n",
       " 'Fizz',\n",
       " 73,\n",
       " 74,\n",
       " 'FizzBuzz',\n",
       " 76,\n",
       " 77,\n",
       " 'Fizz',\n",
       " 79,\n",
       " 'Buzz',\n",
       " 'Fizz',\n",
       " 82,\n",
       " 83,\n",
       " 'Fizz',\n",
       " 'Buzz',\n",
       " 86,\n",
       " 'Fizz',\n",
       " 88,\n",
       " 89,\n",
       " 'FizzBuzz',\n",
       " 91,\n",
       " 92,\n",
       " 'Fizz',\n",
       " 94,\n",
       " 'Buzz',\n",
       " 'Fizz',\n",
       " 97,\n",
       " 98,\n",
       " 'Fizz',\n",
       " 'Buzz',\n",
       " 101,\n",
       " 'Fizz',\n",
       " 103,\n",
       " 104,\n",
       " 'FizzBuzz',\n",
       " 106,\n",
       " 107,\n",
       " 'Fizz',\n",
       " 109,\n",
       " 'Buzz',\n",
       " 'Fizz',\n",
       " 112,\n",
       " 113,\n",
       " 'Fizz',\n",
       " 'Buzz',\n",
       " 116,\n",
       " 'Fizz',\n",
       " 118,\n",
       " 119,\n",
       " 'FizzBuzz',\n",
       " 121,\n",
       " 122,\n",
       " 'Fizz',\n",
       " 124,\n",
       " 'Buzz',\n",
       " 'Fizz',\n",
       " 127,\n",
       " 128,\n",
       " 'Fizz',\n",
       " 'Buzz',\n",
       " 131,\n",
       " 'Fizz',\n",
       " 133,\n",
       " 134,\n",
       " 'FizzBuzz',\n",
       " 136,\n",
       " 137,\n",
       " 'Fizz',\n",
       " 139,\n",
       " 'Buzz',\n",
       " 'Fizz',\n",
       " 142,\n",
       " 143,\n",
       " 'Fizz',\n",
       " 'Buzz',\n",
       " 146,\n",
       " 'Fizz',\n",
       " 148,\n",
       " 149,\n",
       " 'FizzBuzz',\n",
       " 151,\n",
       " 152,\n",
       " 'Fizz',\n",
       " 154,\n",
       " 'Buzz',\n",
       " 'Fizz',\n",
       " 157,\n",
       " 158,\n",
       " 'Fizz',\n",
       " 'Buzz',\n",
       " 161,\n",
       " 'Fizz',\n",
       " 163,\n",
       " 164,\n",
       " 'FizzBuzz',\n",
       " 166,\n",
       " 167,\n",
       " 'Fizz',\n",
       " 169,\n",
       " 'Buzz',\n",
       " 'Fizz',\n",
       " 172,\n",
       " 173,\n",
       " 'Fizz',\n",
       " 'Buzz',\n",
       " 176,\n",
       " 'Fizz',\n",
       " 178,\n",
       " 179,\n",
       " 'FizzBuzz',\n",
       " 181,\n",
       " 182,\n",
       " 'Fizz',\n",
       " 184,\n",
       " 'Buzz',\n",
       " 'Fizz',\n",
       " 187,\n",
       " 188,\n",
       " 'Fizz',\n",
       " 'Buzz',\n",
       " 191,\n",
       " 'Fizz',\n",
       " 193,\n",
       " 194,\n",
       " 'FizzBuzz',\n",
       " 196,\n",
       " 197,\n",
       " 'Fizz',\n",
       " 199,\n",
       " 'Buzz',\n",
       " 'Fizz',\n",
       " 202,\n",
       " 203,\n",
       " 'Fizz',\n",
       " 'Buzz',\n",
       " 206,\n",
       " 'Fizz',\n",
       " 208,\n",
       " 209,\n",
       " 'FizzBuzz',\n",
       " 211,\n",
       " 212,\n",
       " 'Fizz',\n",
       " 214,\n",
       " 'Buzz',\n",
       " 'Fizz',\n",
       " 217,\n",
       " 218,\n",
       " 'Fizz',\n",
       " 'Buzz',\n",
       " 221,\n",
       " 'Fizz',\n",
       " 223,\n",
       " 224,\n",
       " 'FizzBuzz',\n",
       " 226,\n",
       " 227,\n",
       " 'Fizz',\n",
       " 229,\n",
       " 'Buzz',\n",
       " 'Fizz',\n",
       " 232,\n",
       " 233,\n",
       " 'Fizz',\n",
       " 'Buzz',\n",
       " 236,\n",
       " 'Fizz',\n",
       " 238,\n",
       " 239,\n",
       " 'FizzBuzz',\n",
       " 241,\n",
       " 242,\n",
       " 'Fizz',\n",
       " 244,\n",
       " 'Buzz',\n",
       " 'Fizz',\n",
       " 247,\n",
       " 248,\n",
       " 'Fizz',\n",
       " 'Buzz',\n",
       " 251,\n",
       " 'Fizz',\n",
       " 253,\n",
       " 254,\n",
       " 'FizzBuzz',\n",
       " 256,\n",
       " 257,\n",
       " 'Fizz',\n",
       " 259,\n",
       " 'Buzz',\n",
       " 'Fizz',\n",
       " 262,\n",
       " 263,\n",
       " 'Fizz',\n",
       " 'Buzz',\n",
       " 266,\n",
       " 'Fizz',\n",
       " 268,\n",
       " 269,\n",
       " 'FizzBuzz',\n",
       " 271,\n",
       " 272,\n",
       " 'Fizz',\n",
       " 274,\n",
       " 'Buzz',\n",
       " 'Fizz',\n",
       " 277,\n",
       " 278,\n",
       " 'Fizz',\n",
       " 'Buzz',\n",
       " 281,\n",
       " 'Fizz',\n",
       " 283,\n",
       " 284,\n",
       " 'FizzBuzz',\n",
       " 286,\n",
       " 287,\n",
       " 'Fizz',\n",
       " 289,\n",
       " 'Buzz',\n",
       " 'Fizz',\n",
       " 292,\n",
       " 293,\n",
       " 'Fizz',\n",
       " 'Buzz',\n",
       " 296,\n",
       " 'Fizz',\n",
       " 298,\n",
       " 299]"
      ]
     },
     "execution_count": 44,
     "metadata": {},
     "output_type": "execute_result"
    }
   ],
   "source": [
    "[good_fizz_buzz(e) for e in range(15, 300)]"
   ]
  },
  {
   "cell_type": "code",
   "execution_count": null,
   "metadata": {},
   "outputs": [],
   "source": []
  }
 ],
 "metadata": {
  "kernelspec": {
   "display_name": "Python 3",
   "language": "python",
   "name": "python3"
  },
  "language_info": {
   "codemirror_mode": {
    "name": "ipython",
    "version": 3
   },
   "file_extension": ".py",
   "mimetype": "text/x-python",
   "name": "python",
   "nbconvert_exporter": "python",
   "pygments_lexer": "ipython3",
   "version": "3.7.5"
  }
 },
 "nbformat": 4,
 "nbformat_minor": 4
}
