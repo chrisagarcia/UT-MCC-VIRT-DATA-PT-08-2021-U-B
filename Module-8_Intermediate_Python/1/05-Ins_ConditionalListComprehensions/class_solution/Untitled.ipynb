{
 "cells": [
  {
   "cell_type": "code",
   "execution_count": 3,
   "metadata": {},
   "outputs": [],
   "source": [
    "l = list(range(1, 101))"
   ]
  },
  {
   "cell_type": "code",
   "execution_count": 8,
   "metadata": {},
   "outputs": [
    {
     "data": {
      "text/plain": [
       "[4,\n",
       " 16,\n",
       " 36,\n",
       " 64,\n",
       " 100,\n",
       " 144,\n",
       " 196,\n",
       " 256,\n",
       " 324,\n",
       " 400,\n",
       " 484,\n",
       " 576,\n",
       " 676,\n",
       " 784,\n",
       " 900,\n",
       " 1024,\n",
       " 1156,\n",
       " 1296,\n",
       " 1444,\n",
       " 1600,\n",
       " 1764,\n",
       " 1936,\n",
       " 2116,\n",
       " 2304,\n",
       " 2500,\n",
       " 2704,\n",
       " 2916,\n",
       " 3136,\n",
       " 3364,\n",
       " 3600,\n",
       " 3844,\n",
       " 4096,\n",
       " 4356,\n",
       " 4624,\n",
       " 4900,\n",
       " 5184,\n",
       " 5476,\n",
       " 5776,\n",
       " 6084,\n",
       " 6400,\n",
       " 6724,\n",
       " 7056,\n",
       " 7396,\n",
       " 7744,\n",
       " 8100,\n",
       " 8464,\n",
       " 8836,\n",
       " 9216,\n",
       " 9604,\n",
       " 10000]"
      ]
     },
     "execution_count": 8,
     "metadata": {},
     "output_type": "execute_result"
    }
   ],
   "source": [
    "[\n",
    "    e ** 2\n",
    "    for e in l\n",
    "    if e % 2 == 0\n",
    "]"
   ]
  },
  {
   "cell_type": "code",
   "execution_count": null,
   "metadata": {},
   "outputs": [],
   "source": [
    "# [\n",
    "#     (1, \"odd\"),\n",
    "#     (2, \"even\"),\n",
    "#     (3, \"odd\"),\n",
    "#     ...\n",
    "# ]"
   ]
  },
  {
   "cell_type": "code",
   "execution_count": 13,
   "metadata": {},
   "outputs": [
    {
     "data": {
      "text/plain": [
       "[(1, 'odd'),\n",
       " (2, 'even'),\n",
       " (4, 'even'),\n",
       " (5, 'odd'),\n",
       " (7, 'odd'),\n",
       " (8, 'even'),\n",
       " (10, 'even'),\n",
       " (11, 'odd'),\n",
       " (13, 'odd'),\n",
       " (14, 'even'),\n",
       " (16, 'even'),\n",
       " (17, 'odd'),\n",
       " (19, 'odd'),\n",
       " (20, 'even'),\n",
       " (22, 'even'),\n",
       " (23, 'odd'),\n",
       " (25, 'odd'),\n",
       " (26, 'even'),\n",
       " (28, 'even'),\n",
       " (29, 'odd'),\n",
       " (31, 'odd'),\n",
       " (32, 'even'),\n",
       " (34, 'even'),\n",
       " (35, 'odd'),\n",
       " (37, 'odd'),\n",
       " (38, 'even'),\n",
       " (40, 'even'),\n",
       " (41, 'odd'),\n",
       " (43, 'odd'),\n",
       " (44, 'even'),\n",
       " (46, 'even'),\n",
       " (47, 'odd'),\n",
       " (49, 'odd'),\n",
       " (50, 'even'),\n",
       " (52, 'even'),\n",
       " (53, 'odd'),\n",
       " (55, 'odd'),\n",
       " (56, 'even'),\n",
       " (58, 'even'),\n",
       " (59, 'odd'),\n",
       " (61, 'odd'),\n",
       " (62, 'even'),\n",
       " (64, 'even'),\n",
       " (65, 'odd'),\n",
       " (67, 'odd'),\n",
       " (68, 'even'),\n",
       " (70, 'even'),\n",
       " (71, 'odd'),\n",
       " (73, 'odd'),\n",
       " (74, 'even'),\n",
       " (76, 'even'),\n",
       " (77, 'odd'),\n",
       " (79, 'odd'),\n",
       " (80, 'even'),\n",
       " (82, 'even'),\n",
       " (83, 'odd'),\n",
       " (85, 'odd'),\n",
       " (86, 'even'),\n",
       " (88, 'even'),\n",
       " (89, 'odd'),\n",
       " (91, 'odd'),\n",
       " (92, 'even'),\n",
       " (94, 'even'),\n",
       " (95, 'odd'),\n",
       " (97, 'odd'),\n",
       " (98, 'even'),\n",
       " (100, 'even')]"
      ]
     },
     "execution_count": 13,
     "metadata": {},
     "output_type": "execute_result"
    }
   ],
   "source": [
    "# exclude all number divisible by 3\n",
    "[(e, \"even\" if e % 2 == 0 else \"odd\") for e in l if not e % 3 == 0]"
   ]
  },
  {
   "cell_type": "code",
   "execution_count": null,
   "metadata": {},
   "outputs": [],
   "source": [
    "[(e, \"even\" if e % 2 == 0 else \"odd\") for e in l]"
   ]
  },
  {
   "cell_type": "code",
   "execution_count": 15,
   "metadata": {},
   "outputs": [],
   "source": [
    "candies = [{'name':'snickers','has_chocolate':True, 'has_nuts':True, 'is_fruity':False, 'rating':9.5, 'cost':1.50},\n",
    "           {'name':'skittles','has_chocolate':False, 'has_nuts':False, 'is_fruity':True, 'rating':9.2, 'cost':0.99},\n",
    "           {'name':'caramello','has_chocolate':True, 'has_nuts':False, 'is_fruity':False, 'rating':8.3, 'cost':0.99},\n",
    "           {'name':'circus peanuts','has_chocolate':False, 'has_nuts':False, 'is_fruity':False, 'rating':2.2, 'cost':0.49},\n",
    "           {'name':'whatchamacallit','has_chocolate':True, 'has_nuts':True, 'is_fruity':False, 'rating':7.8, 'cost':1.49},\n",
    "           {'name':'starburst','has_chocolate':False, 'has_nuts':False, 'is_fruity':True, 'rating':8.5, 'cost':1.00},\n",
    "           {'name':'mars bar','has_chocolate':True, 'has_nuts':False, 'is_fruity':False, 'rating':7.2, 'cost':1.30},\n",
    "          ]"
   ]
  },
  {
   "cell_type": "code",
   "execution_count": 20,
   "metadata": {},
   "outputs": [
    {
     "data": {
      "text/plain": [
       "[{'name': 'snickers',\n",
       "  'has_chocolate': True,\n",
       "  'has_nuts': True,\n",
       "  'is_fruity': False,\n",
       "  'rating': 9.5,\n",
       "  'cost': 1.5},\n",
       " {'name': 'whatchamacallit',\n",
       "  'has_chocolate': True,\n",
       "  'has_nuts': True,\n",
       "  'is_fruity': False,\n",
       "  'rating': 7.8,\n",
       "  'cost': 1.49}]"
      ]
     },
     "execution_count": 20,
     "metadata": {},
     "output_type": "execute_result"
    }
   ],
   "source": [
    "[d for d in candies if d[\"has_nuts\"]]"
   ]
  },
  {
   "cell_type": "code",
   "execution_count": 22,
   "metadata": {},
   "outputs": [
    {
     "data": {
      "text/plain": [
       "[{'name': 'skittles',\n",
       "  'has_chocolate': False,\n",
       "  'has_nuts': False,\n",
       "  'is_fruity': True,\n",
       "  'rating': 9.2,\n",
       "  'cost': 0.99},\n",
       " {'name': 'caramello',\n",
       "  'has_chocolate': True,\n",
       "  'has_nuts': False,\n",
       "  'is_fruity': False,\n",
       "  'rating': 8.3,\n",
       "  'cost': 0.99},\n",
       " {'name': 'circus peanuts',\n",
       "  'has_chocolate': False,\n",
       "  'has_nuts': False,\n",
       "  'is_fruity': False,\n",
       "  'rating': 2.2,\n",
       "  'cost': 0.49},\n",
       " {'name': 'starburst',\n",
       "  'has_chocolate': False,\n",
       "  'has_nuts': False,\n",
       "  'is_fruity': True,\n",
       "  'rating': 8.5,\n",
       "  'cost': 1.0},\n",
       " {'name': 'mars bar',\n",
       "  'has_chocolate': True,\n",
       "  'has_nuts': False,\n",
       "  'is_fruity': False,\n",
       "  'rating': 7.2,\n",
       "  'cost': 1.3}]"
      ]
     },
     "execution_count": 22,
     "metadata": {},
     "output_type": "execute_result"
    }
   ],
   "source": [
    "[d for d in candies if not d[\"has_nuts\"]]"
   ]
  },
  {
   "cell_type": "markdown",
   "metadata": {},
   "source": [
    "Suppose we wanted to find a candy that\n",
    "1. has chocolate,\n",
    "2. does not have nuts, and\n",
    "3. the rating-to-cost ratio is greater than 7"
   ]
  },
  {
   "cell_type": "code",
   "execution_count": 27,
   "metadata": {},
   "outputs": [
    {
     "data": {
      "text/plain": [
       "[{'name': 'caramello',\n",
       "  'has_chocolate': True,\n",
       "  'has_nuts': False,\n",
       "  'is_fruity': False,\n",
       "  'rating': 8.3,\n",
       "  'cost': 0.99}]"
      ]
     },
     "execution_count": 27,
     "metadata": {},
     "output_type": "execute_result"
    }
   ],
   "source": [
    "[d for d in candies if d[\"has_chocolate\"] and not d[\"has_nuts\"] and d[\"rating\"] /  d[\"cost\"] > 7]"
   ]
  },
  {
   "cell_type": "code",
   "execution_count": 35,
   "metadata": {},
   "outputs": [],
   "source": [
    "def filter_condition(row):\n",
    "    cost_to_rating_ratio = row[\"rating\"] / row[\"cost\"]\n",
    "    return row[\"has_chocolate\"] and not row[\"has_nuts\"] and cost_to_rating_ratio > 7"
   ]
  },
  {
   "cell_type": "code",
   "execution_count": 36,
   "metadata": {},
   "outputs": [
    {
     "data": {
      "text/plain": [
       "[{'name': 'caramello',\n",
       "  'has_chocolate': True,\n",
       "  'has_nuts': False,\n",
       "  'is_fruity': False,\n",
       "  'rating': 8.3,\n",
       "  'cost': 0.99}]"
      ]
     },
     "execution_count": 36,
     "metadata": {},
     "output_type": "execute_result"
    }
   ],
   "source": [
    "[d for d in candies if filter_condition(d)]"
   ]
  }
 ],
 "metadata": {
  "kernelspec": {
   "display_name": "Python 3",
   "language": "python",
   "name": "python3"
  },
  "language_info": {
   "codemirror_mode": {
    "name": "ipython",
    "version": 3
   },
   "file_extension": ".py",
   "mimetype": "text/x-python",
   "name": "python",
   "nbconvert_exporter": "python",
   "pygments_lexer": "ipython3",
   "version": "3.7.5"
  }
 },
 "nbformat": 4,
 "nbformat_minor": 4
}
