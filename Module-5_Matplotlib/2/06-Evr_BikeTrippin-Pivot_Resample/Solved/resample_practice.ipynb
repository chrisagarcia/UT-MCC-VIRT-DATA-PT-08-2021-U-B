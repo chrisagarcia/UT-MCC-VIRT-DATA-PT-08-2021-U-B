{
 "cells": [
  {
   "cell_type": "code",
   "execution_count": 1,
   "metadata": {},
   "outputs": [],
   "source": [
    "import numpy as np\n",
    "import pandas as pd"
   ]
  },
  {
   "cell_type": "code",
   "execution_count": 2,
   "metadata": {},
   "outputs": [
    {
     "data": {
      "text/plain": [
       "2020-01-01     0\n",
       "2020-01-02     1\n",
       "2020-01-03     2\n",
       "2020-01-04     3\n",
       "2020-01-05     4\n",
       "2020-01-06     5\n",
       "2020-01-07     6\n",
       "2020-01-08     7\n",
       "2020-01-09     8\n",
       "2020-01-10     9\n",
       "2020-01-11    10\n",
       "2020-01-12    11\n",
       "2020-01-13    12\n",
       "2020-01-14    13\n",
       "2020-01-15    14\n",
       "2020-01-16    15\n",
       "2020-01-17    16\n",
       "2020-01-18    17\n",
       "2020-01-19    18\n",
       "2020-01-20    19\n",
       "Freq: D, dtype: int64"
      ]
     },
     "execution_count": 2,
     "metadata": {},
     "output_type": "execute_result"
    }
   ],
   "source": [
    "index = pd.date_range('1/1/20', periods=20, freq='D')\n",
    "series = pd.Series(range(20), index=index)\n",
    "series"
   ]
  },
  {
   "cell_type": "code",
   "execution_count": 3,
   "metadata": {},
   "outputs": [],
   "source": [
    "df = series.to_frame().reset_index()"
   ]
  },
  {
   "cell_type": "code",
   "execution_count": 15,
   "metadata": {},
   "outputs": [
    {
     "data": {
      "text/html": [
       "<div>\n",
       "<style scoped>\n",
       "    .dataframe tbody tr th:only-of-type {\n",
       "        vertical-align: middle;\n",
       "    }\n",
       "\n",
       "    .dataframe tbody tr th {\n",
       "        vertical-align: top;\n",
       "    }\n",
       "\n",
       "    .dataframe thead th {\n",
       "        text-align: right;\n",
       "    }\n",
       "</style>\n",
       "<table border=\"1\" class=\"dataframe\">\n",
       "  <thead>\n",
       "    <tr style=\"text-align: right;\">\n",
       "      <th></th>\n",
       "      <th>0</th>\n",
       "    </tr>\n",
       "    <tr>\n",
       "      <th>index</th>\n",
       "      <th></th>\n",
       "    </tr>\n",
       "  </thead>\n",
       "  <tbody>\n",
       "    <tr>\n",
       "      <th>2020-01-05</th>\n",
       "      <td>5</td>\n",
       "    </tr>\n",
       "    <tr>\n",
       "      <th>2020-01-12</th>\n",
       "      <td>7</td>\n",
       "    </tr>\n",
       "    <tr>\n",
       "      <th>2020-01-19</th>\n",
       "      <td>7</td>\n",
       "    </tr>\n",
       "    <tr>\n",
       "      <th>2020-01-26</th>\n",
       "      <td>1</td>\n",
       "    </tr>\n",
       "  </tbody>\n",
       "</table>\n",
       "</div>"
      ],
      "text/plain": [
       "            0\n",
       "index        \n",
       "2020-01-05  5\n",
       "2020-01-12  7\n",
       "2020-01-19  7\n",
       "2020-01-26  1"
      ]
     },
     "execution_count": 15,
     "metadata": {},
     "output_type": "execute_result"
    }
   ],
   "source": [
    "df.groupby(pd.Grouper(key=\"index\", freq=\"W\")).count()"
   ]
  },
  {
   "cell_type": "code",
   "execution_count": 5,
   "metadata": {},
   "outputs": [
    {
     "data": {
      "text/plain": [
       "2020-01-05    5\n",
       "2020-01-12    7\n",
       "2020-01-19    7\n",
       "2020-01-26    1\n",
       "Freq: W-SUN, dtype: int64"
      ]
     },
     "execution_count": 5,
     "metadata": {},
     "output_type": "execute_result"
    }
   ],
   "source": [
    "series.resample(\"W\").count()"
   ]
  },
  {
   "cell_type": "code",
   "execution_count": 6,
   "metadata": {},
   "outputs": [
    {
     "data": {
      "text/plain": [
       "2020-01-01     0\n",
       "2020-01-02     1\n",
       "2020-01-03     2\n",
       "2020-01-04     3\n",
       "2020-01-05     4\n",
       "2020-01-06     5\n",
       "2020-01-07     6\n",
       "2020-01-08     7\n",
       "2020-01-09     8\n",
       "2020-01-10     9\n",
       "2020-01-11    10\n",
       "2020-01-12    11\n",
       "2020-01-13    12\n",
       "2020-01-14    13\n",
       "2020-01-15    14\n",
       "2020-01-16    15\n",
       "2020-01-17    16\n",
       "2020-01-18    17\n",
       "2020-01-19    18\n",
       "2020-01-20    19\n",
       "Freq: D, dtype: int64"
      ]
     },
     "execution_count": 6,
     "metadata": {},
     "output_type": "execute_result"
    }
   ],
   "source": [
    "# Get the sum of the values for each day\n",
    "series.resample('D').sum()"
   ]
  },
  {
   "cell_type": "code",
   "execution_count": 7,
   "metadata": {},
   "outputs": [
    {
     "data": {
      "text/plain": [
       "2020-01-05     10\n",
       "2020-01-12     56\n",
       "2020-01-19    105\n",
       "2020-01-26     19\n",
       "Freq: W-SUN, dtype: int64"
      ]
     },
     "execution_count": 7,
     "metadata": {},
     "output_type": "execute_result"
    }
   ],
   "source": [
    "#  Get the sum of the values for each week.\n",
    "series.resample('W').sum()"
   ]
  },
  {
   "cell_type": "code",
   "execution_count": 8,
   "metadata": {},
   "outputs": [
    {
     "data": {
      "text/plain": [
       "2020-01-05    5\n",
       "2020-01-12    7\n",
       "2020-01-19    7\n",
       "2020-01-26    1\n",
       "Freq: W-SUN, dtype: int64"
      ]
     },
     "execution_count": 8,
     "metadata": {},
     "output_type": "execute_result"
    }
   ],
   "source": [
    "# Get the number of values for each week.\n",
    "series.resample('W').count()"
   ]
  },
  {
   "cell_type": "code",
   "execution_count": 9,
   "metadata": {},
   "outputs": [
    {
     "data": {
      "text/plain": [
       "2020-01-05     2\n",
       "2020-01-12     8\n",
       "2020-01-19    15\n",
       "2020-01-26    19\n",
       "Freq: W-SUN, dtype: int64"
      ]
     },
     "execution_count": 9,
     "metadata": {},
     "output_type": "execute_result"
    }
   ],
   "source": [
    "# Get the mean of the values for each week.\n",
    "series.resample('W').mean()"
   ]
  },
  {
   "cell_type": "code",
   "execution_count": 10,
   "metadata": {},
   "outputs": [
    {
     "data": {
      "text/plain": [
       "2020-01-31    9.5\n",
       "Freq: M, dtype: float64"
      ]
     },
     "execution_count": 10,
     "metadata": {},
     "output_type": "execute_result"
    }
   ],
   "source": [
    "# Get the mean of the values for the month.\n",
    "series.resample('M').mean()"
   ]
  },
  {
   "cell_type": "code",
   "execution_count": null,
   "metadata": {},
   "outputs": [],
   "source": []
  }
 ],
 "metadata": {
  "kernelspec": {
   "display_name": "Python 3",
   "language": "python",
   "name": "python3"
  },
  "language_info": {
   "codemirror_mode": {
    "name": "ipython",
    "version": 3
   },
   "file_extension": ".py",
   "mimetype": "text/x-python",
   "name": "python",
   "nbconvert_exporter": "python",
   "pygments_lexer": "ipython3",
   "version": "3.7.5"
  }
 },
 "nbformat": 4,
 "nbformat_minor": 4
}
