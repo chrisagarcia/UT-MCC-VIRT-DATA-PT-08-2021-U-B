{
 "cells": [
  {
   "cell_type": "code",
   "execution_count": 1,
   "metadata": {},
   "outputs": [],
   "source": [
    "import os\n",
    "import csv"
   ]
  },
  {
   "cell_type": "code",
   "execution_count": 2,
   "metadata": {},
   "outputs": [],
   "source": [
    "filepath = os.path.join(\"..\", \"Resources\", \"avg_rain_state.csv\")\n",
    "# filepath = os.path.join(\"resc2\", \"avg_rain_state.csv\")"
   ]
  },
  {
   "cell_type": "code",
   "execution_count": 3,
   "metadata": {},
   "outputs": [
    {
     "name": "stdout",
     "output_type": "stream",
     "text": [
      "OrderedDict([('\\ufeffState', 'Alabama'), ('Inches', '58.3'), ('Milli\\xadmetres', '1480'), ('Rank', '4')])\n",
      "OrderedDict([('\\ufeffState', 'Alaska'), ('Inches', '22.5'), ('Milli\\xadmetres', '572'), ('Rank', '39')])\n",
      "OrderedDict([('\\ufeffState', 'Arizona'), ('Inches', '13.6'), ('Milli\\xadmetres', '345'), ('Rank', '47')])\n",
      "OrderedDict([('\\ufeffState', 'Arkansas'), ('Inches', '50.6'), ('Milli\\xadmetres', '1284'), ('Rank', '8')])\n",
      "OrderedDict([('\\ufeffState', 'California'), ('Inches', '22.2'), ('Milli\\xadmetres', '563'), ('Rank', '40')])\n",
      "OrderedDict([('\\ufeffState', 'Colorado'), ('Inches', '15.9'), ('Milli\\xadmetres', '405'), ('Rank', '44')])\n",
      "OrderedDict([('\\ufeffState', 'Connecticut'), ('Inches', '50.3'), ('Milli\\xadmetres', '1279'), ('Rank', '9')])\n",
      "OrderedDict([('\\ufeffState', 'Delaware'), ('Inches', '45.7'), ('Milli\\xadmetres', '1160'), ('Rank', '16')])\n",
      "OrderedDict([('\\ufeffState', 'Florida'), ('Inches', '54.5'), ('Milli\\xadmetres', '1385'), ('Rank', '5')])\n",
      "OrderedDict([('\\ufeffState', 'Georgia'), ('Inches', '50.7'), ('Milli\\xadmetres', '1287'), ('Rank', '7')])\n",
      "OrderedDict([('\\ufeffState', 'Hawaii'), ('Inches', '63.7'), ('Milli\\xadmetres', '1618'), ('Rank', '1')])\n",
      "OrderedDict([('\\ufeffState', 'Idaho'), ('Inches', '18.9'), ('Milli\\xadmetres', '481'), ('Rank', '42')])\n",
      "OrderedDict([('\\ufeffState', 'Illinois'), ('Inches', '39.2'), ('Milli\\xadmetres', '996'), ('Rank', '27')])\n",
      "OrderedDict([('\\ufeffState', 'Indiana'), ('Inches', '41.7'), ('Milli\\xadmetres', '1060'), ('Rank', '26')])\n",
      "OrderedDict([('\\ufeffState', 'Iowa'), ('Inches', '34'), ('Milli\\xadmetres', '864'), ('Rank', '31')])\n",
      "OrderedDict([('\\ufeffState', 'Kansas'), ('Inches', '28.9'), ('Milli\\xadmetres', '733'), ('Rank', '35')])\n",
      "OrderedDict([('\\ufeffState', 'Kentucky'), ('Inches', '48.9'), ('Milli\\xadmetres', '1242'), ('Rank', '12')])\n",
      "OrderedDict([('\\ufeffState', 'Louisiana'), ('Inches', '60.1'), ('Milli\\xadmetres', '1528'), ('Rank', '2')])\n",
      "OrderedDict([('\\ufeffState', 'Maine'), ('Inches', '42.2'), ('Milli\\xadmetres', '1072'), ('Rank', '23')])\n",
      "OrderedDict([('\\ufeffState', 'Maryland'), ('Inches', '44.5'), ('Milli\\xadmetres', '1131'), ('Rank', '18')])\n",
      "OrderedDict([('\\ufeffState', 'Massachusetts'), ('Inches', '47.7'), ('Milli\\xadmetres', '1211'), ('Rank', '14')])\n",
      "OrderedDict([('\\ufeffState', 'Michigan'), ('Inches', '32.8'), ('Milli\\xadmetres', '833'), ('Rank', '32')])\n",
      "OrderedDict([('\\ufeffState', 'Minnesota'), ('Inches', '27.3'), ('Milli\\xadmetres', '693'), ('Rank', '37')])\n",
      "OrderedDict([('\\ufeffState', 'Mississippi'), ('Inches', '59'), ('Milli\\xadmetres', '1499'), ('Rank', '3')])\n",
      "OrderedDict([('\\ufeffState', 'Missouri'), ('Inches', '42.2'), ('Milli\\xadmetres', '1071'), ('Rank', '24')])\n",
      "OrderedDict([('\\ufeffState', 'Montana'), ('Inches', '15.3'), ('Milli\\xadmetres', '390'), ('Rank', '45')])\n",
      "OrderedDict([('\\ufeffState', 'Nebraska'), ('Inches', '23.6'), ('Milli\\xadmetres', '599'), ('Rank', '38')])\n",
      "OrderedDict([('\\ufeffState', 'Nevada'), ('Inches', '9.5'), ('Milli\\xadmetres', '241'), ('Rank', '50')])\n",
      "OrderedDict([('\\ufeffState', 'New Hampshire'), ('Inches', '43.4'), ('Milli\\xadmetres', '1103'), ('Rank', '20')])\n",
      "OrderedDict([('\\ufeffState', 'New Jersey'), ('Inches', '47.1'), ('Milli\\xadmetres', '1196'), ('Rank', '15')])\n",
      "OrderedDict([('\\ufeffState', 'New Mexico'), ('Inches', '14.6'), ('Milli\\xadmetres', '370'), ('Rank', '46')])\n",
      "OrderedDict([('\\ufeffState', 'New York'), ('Inches', '41.8'), ('Milli\\xadmetres', '1062'), ('Rank', '25')])\n",
      "OrderedDict([('\\ufeffState', 'North Carolina'), ('Inches', '50.3'), ('Milli\\xadmetres', '1279'), ('Rank', '9')])\n",
      "OrderedDict([('\\ufeffState', 'North Dakota'), ('Inches', '17.8'), ('Milli\\xadmetres', '452'), ('Rank', '43')])\n",
      "OrderedDict([('\\ufeffState', 'Ohio'), ('Inches', '39.1'), ('Milli\\xadmetres', '993'), ('Rank', '28')])\n",
      "OrderedDict([('\\ufeffState', 'Oklahoma'), ('Inches', '36.5'), ('Milli\\xadmetres', '927'), ('Rank', '30')])\n",
      "OrderedDict([('\\ufeffState', 'Oregon'), ('Inches', '27.4'), ('Milli\\xadmetres', '695'), ('Rank', '36')])\n",
      "OrderedDict([('\\ufeffState', 'Pennsylvania'), ('Inches', '42.9'), ('Milli\\xadmetres', '1089'), ('Rank', '21')])\n",
      "OrderedDict([('\\ufeffState', 'Rhode Island'), ('Inches', '47.9'), ('Milli\\xadmetres', '1218'), ('Rank', '13')])\n",
      "OrderedDict([('\\ufeffState', 'South Carolina'), ('Inches', '49.8'), ('Milli\\xadmetres', '1264'), ('Rank', '11')])\n",
      "OrderedDict([('\\ufeffState', 'South Dakota'), ('Inches', '20.1'), ('Milli\\xadmetres', '511'), ('Rank', '41')])\n",
      "OrderedDict([('\\ufeffState', 'Tennessee'), ('Inches', '54.2'), ('Milli\\xadmetres', '1376'), ('Rank', '6')])\n",
      "OrderedDict([('\\ufeffState', 'Texas'), ('Inches', '28.9'), ('Milli\\xadmetres', '734'), ('Rank', '34')])\n",
      "OrderedDict([('\\ufeffState', 'Utah'), ('Inches', '12.2'), ('Milli\\xadmetres', '310'), ('Rank', '49')])\n",
      "OrderedDict([('\\ufeffState', 'Vermont'), ('Inches', '42.7'), ('Milli\\xadmetres', '1085'), ('Rank', '22')])\n",
      "OrderedDict([('\\ufeffState', 'Virginia'), ('Inches', '44.3'), ('Milli\\xadmetres', '1125'), ('Rank', '19')])\n",
      "OrderedDict([('\\ufeffState', 'Washington'), ('Inches', '38.4'), ('Milli\\xadmetres', '976'), ('Rank', '29')])\n",
      "OrderedDict([('\\ufeffState', 'West Virginia'), ('Inches', '45.2'), ('Milli\\xadmetres', '1147'), ('Rank', '17')])\n",
      "OrderedDict([('\\ufeffState', 'Wisconsin'), ('Inches', '32.6'), ('Milli\\xadmetres', '829'), ('Rank', '33')])\n",
      "OrderedDict([('\\ufeffState', 'Wyoming'), ('Inches', '12.9'), ('Milli\\xadmetres', '328'), ('Rank', '48')])\n"
     ]
    }
   ],
   "source": [
    "with open(filepath) as f:\n",
    "    dict_reader = csv.DictReader(f)\n",
    "    for d in dict_reader:\n",
    "        print(d)"
   ]
  },
  {
   "cell_type": "code",
   "execution_count": null,
   "metadata": {},
   "outputs": [],
   "source": []
  }
 ],
 "metadata": {
  "kernelspec": {
   "display_name": "Python 3",
   "language": "python",
   "name": "python3"
  },
  "language_info": {
   "codemirror_mode": {
    "name": "ipython",
    "version": 3
   },
   "file_extension": ".py",
   "mimetype": "text/x-python",
   "name": "python",
   "nbconvert_exporter": "python",
   "pygments_lexer": "ipython3",
   "version": "3.7.5"
  }
 },
 "nbformat": 4,
 "nbformat_minor": 4
}
