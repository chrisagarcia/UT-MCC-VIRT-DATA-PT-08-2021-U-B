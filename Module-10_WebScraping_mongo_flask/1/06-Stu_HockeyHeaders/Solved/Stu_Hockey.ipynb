{
 "cells": [
  {
   "cell_type": "code",
   "execution_count": 1,
   "metadata": {},
   "outputs": [],
   "source": [
    "# Dependencies\n",
    "from bs4 import BeautifulSoup\n",
    "import requests\n",
    "import pymongo"
   ]
  },
  {
   "cell_type": "code",
   "execution_count": 2,
   "metadata": {},
   "outputs": [],
   "source": [
    "# Initialize PyMongo to work with MongoDBs\n",
    "conn = 'mongodb://localhost:27017'\n",
    "client = pymongo.MongoClient(conn)"
   ]
  },
  {
   "cell_type": "code",
   "execution_count": 3,
   "metadata": {},
   "outputs": [],
   "source": [
    "# Define database and collection\n",
    "db = client.nhl_db\n",
    "collection = db.articles"
   ]
  },
  {
   "cell_type": "code",
   "execution_count": 4,
   "metadata": {},
   "outputs": [],
   "source": [
    "# URL of page to be scraped\n",
    "url = 'https://www.nhl.com/news'\n",
    "\n",
    "# Retrieve page with the requests module\n",
    "response = requests.get(url)\n",
    "# Create BeautifulSoup object; parse with 'html.parser'\n",
    "soup = BeautifulSoup(response.text, 'html.parser')"
   ]
  },
  {
   "cell_type": "code",
   "execution_count": 5,
   "metadata": {},
   "outputs": [
    {
     "name": "stdout",
     "output_type": "stream",
     "text": [
      "{'header': 'Kane suspended 21 games for Sharks, violated NHL COVID-19 protocol', 'subheader': 'Forward did not attend training camp, play in season opener, previously cleared in gambling investigation', 'date': '2021-10-18'}\n",
      "{'header': 'Kucherov out indefinitely for Lightning with undisclosed injury', 'subheader': \"'Not a day-to-day thing' coach Cooper says about forward who left win against Capitals\", 'date': '2021-10-18'}\n",
      "{'header': 'NHL Buzz: Malkin skates prior to Penguins practice', 'subheader': 'Center had offseason knee surgery; Hoffman, Boeser each expected to play Tuesday; Wheeler in COVID-19 protocol for Jets', 'date': '2021-10-18'}\n",
      "{'header': 'NHL On Tap: Coleman to make Flames debut after serving suspension', 'subheader': \"Matthews expected to play first game of season for Maple Leafs; Hakstol's Kraken visit Flyers\", 'date': '2021-10-18'}\n",
      "{'header': 'Kopitar leads 3 Stars of the Week', 'subheader': 'Kings center, Capitals forward Ovechkin, Lightning center Stamkos earn honors', 'date': '2021-10-18'}\n",
      "{'header': 'Color of Hockey: Samuels-Thomas on track to become NHL referee', 'subheader': \"Former forward to work AHL games this season as part of making 'dream come true'\", 'date': '2021-10-18'}\n",
      "{'header': 'Seguin at full strength for Stars nearly year after surgery', 'subheader': \"Center had torn labrum in hip, 'lost my whole quad'\", 'date': '2021-10-18'}\n",
      "{'header': 'Kovalchuk named Russian Olympic Committee GM for 2022 Beijing Olympics', 'subheader': 'Former NHL forward scored 443 goals in 13 seasons; Zhamnov, Gonchar, Nabokov also part of management group', 'date': '2021-10-18'}\n",
      "{'header': 'Faksa fined $5,000 for incident in Stars game', 'subheader': \"Forward penalized maximum for slashing Senators' Stutzle\", 'date': '2021-10-18'}\n",
      "{'header': 'Fantasy hockey top 100 forward rankings', 'subheader': 'Most valuable options at position in standard leagues for rest of season; podcast', 'date': '2021-10-18'}\n",
      "{'header': 'Knyzhov out 8-10 weeks for Sharks, will have surgery', 'subheader': 'Defenseman missed training camp with lower-body injury', 'date': '2021-10-17'}\n",
      "{'header': 'Penguins, Flames mascots need your Hall of Fame votes', 'subheader': 'Iceburgh, Harvey the Hound can be elected by fans as part of 2022 class', 'date': '2021-10-18'}\n",
      "{'header': \"Colombia wins men's title, Puerto Rico women's team prevails at LATAM Cup\", 'subheader': '29 teams, 500 players participate in Latin American/Caribbean hockey tournament', 'date': '2021-10-17'}\n",
      "{'header': \"Boivin death has Bruins teammate Bucyk remembering 'terrific player'\", 'subheader': 'Defenseman was known for punishing hip checks during 19 seasons in NHL', 'date': '2021-10-17'}\n",
      "{'header': 'Fantasy hockey top 10 waiver wire pickups', 'subheader': 'Forward Bertuzzi, rookie defenseman Seider worth adding from Red Wings; podcast', 'date': '2021-10-18'}\n",
      "{'header': \"Ayres' pregame advice for Maple Leafs backup Bishop: Wear No. 90\", 'subheader': \"Hurricanes EBUG and Blackhawks' Foster both wore same number in successful stints\", 'date': '2021-10-17'}\n",
      "{'header': 'Hakstol evolving as Kraken coach, returns to Philadelphia to face Flyers', 'subheader': \"Cites first NHL job as 'great growth opportunities' en route to taking over expansion team\", 'date': '2021-10-17'}\n",
      "{'header': 'Andersson fined $5,000 for actions in Flames game', 'subheader': 'Defenseman penalized maximum for roughing Oilers forward Yamamoto', 'date': '2021-10-17'}\n",
      "{'header': 'Pacioretty week to week for Golden Knights with lower-body injury', 'subheader': 'Forward tied for team lead in points; Stone day to day with injury', 'date': '2021-10-16'}\n",
      "{'header': \"Former figure skaters finding 'surreal' success as NHL skating coaches\", 'subheader': 'Longtime friends Underhill, Tutton, Braid had hand in Lightning Cup win after unlikely journey', 'date': '2021-10-17'}\n",
      "{'header': 'Tkachuk signs seven-year, $57.5 million contract with Senators', 'subheader': 'Restricted free agent forward led Ottawa in points last season, ranked second in NHL in hits', 'date': '2021-10-17'}\n",
      "{'header': 'Maple Leafs sign college goalie Bishop as backup against Senators', 'subheader': 'Needed due to Mrazek injury, salary cap restraints', 'date': '2021-10-16'}\n",
      "{'header': 'Avalanche honor late GM Lacroix with banner raised to rafters', 'subheader': 'Sakic, Forsberg, Bourque and more on hand for special ceremony', 'date': '2021-10-16'}\n",
      "{'header': 'Jamaica aiming for goal of bringing hockey team to 2026 Olympics', 'subheader': '2019 LATAM Cup champs primed to develop game, build rink, gain full IIHF membership', 'date': '2021-10-16'}\n",
      "{'header': 'NHL DFS player picks, projections, strategy', 'subheader': \"Heinen: goals in three straight to begin season on Penguins' top line; podcast\", 'date': '2021-10-18'}\n",
      "{'header': 'Boivin dies at 90, Hockey Hall of Fame defenseman', 'subheader': 'Played 19 seasons in NHL, made hip check his specialty', 'date': '2021-10-16'}\n",
      "{'header': \"Howe's journey to NHL immortality started 75 years ago with Red Wings\", 'subheader': 'Mr. Hockey debuted with goal in surprise first-line assignment', 'date': '2021-10-15'}\n",
      "{'header': 'NHL 22 from EA Sports, featuring Superstar X-Factors, available worldwide', 'subheader': 'Improved gameplay includes visual upgrades, increased player detail', 'date': '2021-10-15'}\n",
      "{'header': 'Fantasy hockey top 25 line rankings', 'subheader': 'NHL.com lists best units in terms of past chemistry, rest-of-season potential', 'date': '2021-10-18'}\n"
     ]
    }
   ],
   "source": [
    "# Retrieve the parent divs for all articles\n",
    "results = soup.find_all('div', class_='article-item__top')\n",
    "\n",
    "# loop over results to get article data\n",
    "for result in results:\n",
    "    # scrape the article header \n",
    "    header = result.find('h1', class_='article-item__headline').text\n",
    "    \n",
    "    # scrape the article subheader\n",
    "    subheader = result.find('h2', class_='article-item__subheader').text\n",
    "    \n",
    "    # scrape the datetime\n",
    "    datetime = result.find('span', class_='article-item__date')[\"data-date\"] \n",
    "    \n",
    "    # get only the date from the datetime\n",
    "    date = datetime.split('T')[0]\n",
    "    \n",
    "    # print article data\n",
    "#     print('-----------------')\n",
    "#     print(header)\n",
    "#     print(subheader)\n",
    "#     print(date)\n",
    "\n",
    "    # Dictionary to be inserted into MongoDB\n",
    "    post = {\n",
    "        'header': header,\n",
    "        'subheader': subheader,\n",
    "        'date': date,\n",
    "    }\n",
    "    \n",
    "    print(post)\n",
    "\n",
    "    # Insert dictionary into MongoDB as a document\n",
    "    collection.insert_one(post)"
   ]
  },
  {
   "cell_type": "code",
   "execution_count": 6,
   "metadata": {},
   "outputs": [
    {
     "name": "stdout",
     "output_type": "stream",
     "text": [
      "{'_id': ObjectId('616e267ab75ac3f618e0e2f4'), 'header': 'Kane suspended 21 games for Sharks, violated NHL COVID-19 protocol', 'subheader': 'Forward did not attend training camp, play in season opener, previously cleared in gambling investigation', 'date': '2021-10-18'}\n",
      "{'_id': ObjectId('616e267ab75ac3f618e0e2f5'), 'header': 'Kucherov out indefinitely for Lightning with undisclosed injury', 'subheader': \"'Not a day-to-day thing' coach Cooper says about forward who left win against Capitals\", 'date': '2021-10-18'}\n",
      "{'_id': ObjectId('616e267ab75ac3f618e0e2f6'), 'header': 'NHL Buzz: Malkin skates prior to Penguins practice', 'subheader': 'Center had offseason knee surgery; Hoffman, Boeser each expected to play Tuesday; Wheeler in COVID-19 protocol for Jets', 'date': '2021-10-18'}\n",
      "{'_id': ObjectId('616e267ab75ac3f618e0e2f7'), 'header': 'NHL On Tap: Coleman to make Flames debut after serving suspension', 'subheader': \"Matthews expected to play first game of season for Maple Leafs; Hakstol's Kraken visit Flyers\", 'date': '2021-10-18'}\n",
      "{'_id': ObjectId('616e267ab75ac3f618e0e2f8'), 'header': 'Kopitar leads 3 Stars of the Week', 'subheader': 'Kings center, Capitals forward Ovechkin, Lightning center Stamkos earn honors', 'date': '2021-10-18'}\n",
      "{'_id': ObjectId('616e267ab75ac3f618e0e2f9'), 'header': 'Color of Hockey: Samuels-Thomas on track to become NHL referee', 'subheader': \"Former forward to work AHL games this season as part of making 'dream come true'\", 'date': '2021-10-18'}\n",
      "{'_id': ObjectId('616e267ab75ac3f618e0e2fa'), 'header': 'Seguin at full strength for Stars nearly year after surgery', 'subheader': \"Center had torn labrum in hip, 'lost my whole quad'\", 'date': '2021-10-18'}\n",
      "{'_id': ObjectId('616e267ab75ac3f618e0e2fb'), 'header': 'Kovalchuk named Russian Olympic Committee GM for 2022 Beijing Olympics', 'subheader': 'Former NHL forward scored 443 goals in 13 seasons; Zhamnov, Gonchar, Nabokov also part of management group', 'date': '2021-10-18'}\n",
      "{'_id': ObjectId('616e267ab75ac3f618e0e2fc'), 'header': 'Faksa fined $5,000 for incident in Stars game', 'subheader': \"Forward penalized maximum for slashing Senators' Stutzle\", 'date': '2021-10-18'}\n",
      "{'_id': ObjectId('616e267ab75ac3f618e0e2fd'), 'header': 'Fantasy hockey top 100 forward rankings', 'subheader': 'Most valuable options at position in standard leagues for rest of season; podcast', 'date': '2021-10-18'}\n",
      "{'_id': ObjectId('616e267ab75ac3f618e0e2fe'), 'header': 'Knyzhov out 8-10 weeks for Sharks, will have surgery', 'subheader': 'Defenseman missed training camp with lower-body injury', 'date': '2021-10-17'}\n",
      "{'_id': ObjectId('616e267ab75ac3f618e0e2ff'), 'header': 'Penguins, Flames mascots need your Hall of Fame votes', 'subheader': 'Iceburgh, Harvey the Hound can be elected by fans as part of 2022 class', 'date': '2021-10-18'}\n",
      "{'_id': ObjectId('616e267ab75ac3f618e0e300'), 'header': \"Colombia wins men's title, Puerto Rico women's team prevails at LATAM Cup\", 'subheader': '29 teams, 500 players participate in Latin American/Caribbean hockey tournament', 'date': '2021-10-17'}\n",
      "{'_id': ObjectId('616e267ab75ac3f618e0e301'), 'header': \"Boivin death has Bruins teammate Bucyk remembering 'terrific player'\", 'subheader': 'Defenseman was known for punishing hip checks during 19 seasons in NHL', 'date': '2021-10-17'}\n",
      "{'_id': ObjectId('616e267ab75ac3f618e0e302'), 'header': 'Fantasy hockey top 10 waiver wire pickups', 'subheader': 'Forward Bertuzzi, rookie defenseman Seider worth adding from Red Wings; podcast', 'date': '2021-10-18'}\n",
      "{'_id': ObjectId('616e267ab75ac3f618e0e303'), 'header': \"Ayres' pregame advice for Maple Leafs backup Bishop: Wear No. 90\", 'subheader': \"Hurricanes EBUG and Blackhawks' Foster both wore same number in successful stints\", 'date': '2021-10-17'}\n",
      "{'_id': ObjectId('616e267ab75ac3f618e0e304'), 'header': 'Hakstol evolving as Kraken coach, returns to Philadelphia to face Flyers', 'subheader': \"Cites first NHL job as 'great growth opportunities' en route to taking over expansion team\", 'date': '2021-10-17'}\n",
      "{'_id': ObjectId('616e267ab75ac3f618e0e305'), 'header': 'Andersson fined $5,000 for actions in Flames game', 'subheader': 'Defenseman penalized maximum for roughing Oilers forward Yamamoto', 'date': '2021-10-17'}\n",
      "{'_id': ObjectId('616e267ab75ac3f618e0e306'), 'header': 'Pacioretty week to week for Golden Knights with lower-body injury', 'subheader': 'Forward tied for team lead in points; Stone day to day with injury', 'date': '2021-10-16'}\n",
      "{'_id': ObjectId('616e267ab75ac3f618e0e307'), 'header': \"Former figure skaters finding 'surreal' success as NHL skating coaches\", 'subheader': 'Longtime friends Underhill, Tutton, Braid had hand in Lightning Cup win after unlikely journey', 'date': '2021-10-17'}\n",
      "{'_id': ObjectId('616e267ab75ac3f618e0e308'), 'header': 'Tkachuk signs seven-year, $57.5 million contract with Senators', 'subheader': 'Restricted free agent forward led Ottawa in points last season, ranked second in NHL in hits', 'date': '2021-10-17'}\n",
      "{'_id': ObjectId('616e267ab75ac3f618e0e309'), 'header': 'Maple Leafs sign college goalie Bishop as backup against Senators', 'subheader': 'Needed due to Mrazek injury, salary cap restraints', 'date': '2021-10-16'}\n",
      "{'_id': ObjectId('616e267ab75ac3f618e0e30a'), 'header': 'Avalanche honor late GM Lacroix with banner raised to rafters', 'subheader': 'Sakic, Forsberg, Bourque and more on hand for special ceremony', 'date': '2021-10-16'}\n",
      "{'_id': ObjectId('616e267ab75ac3f618e0e30b'), 'header': 'Jamaica aiming for goal of bringing hockey team to 2026 Olympics', 'subheader': '2019 LATAM Cup champs primed to develop game, build rink, gain full IIHF membership', 'date': '2021-10-16'}\n",
      "{'_id': ObjectId('616e267ab75ac3f618e0e30c'), 'header': 'NHL DFS player picks, projections, strategy', 'subheader': \"Heinen: goals in three straight to begin season on Penguins' top line; podcast\", 'date': '2021-10-18'}\n",
      "{'_id': ObjectId('616e267ab75ac3f618e0e30d'), 'header': 'Boivin dies at 90, Hockey Hall of Fame defenseman', 'subheader': 'Played 19 seasons in NHL, made hip check his specialty', 'date': '2021-10-16'}\n",
      "{'_id': ObjectId('616e267ab75ac3f618e0e30e'), 'header': \"Howe's journey to NHL immortality started 75 years ago with Red Wings\", 'subheader': 'Mr. Hockey debuted with goal in surprise first-line assignment', 'date': '2021-10-15'}\n",
      "{'_id': ObjectId('616e267ab75ac3f618e0e30f'), 'header': 'NHL 22 from EA Sports, featuring Superstar X-Factors, available worldwide', 'subheader': 'Improved gameplay includes visual upgrades, increased player detail', 'date': '2021-10-15'}\n",
      "{'_id': ObjectId('616e267ab75ac3f618e0e310'), 'header': 'Fantasy hockey top 25 line rankings', 'subheader': 'NHL.com lists best units in terms of past chemistry, rest-of-season potential', 'date': '2021-10-18'}\n"
     ]
    }
   ],
   "source": [
    "# Display the MongoDB records created above\n",
    "articles = db.articles.find()\n",
    "for article in articles:\n",
    "    print(article)"
   ]
  },
  {
   "cell_type": "code",
   "execution_count": null,
   "metadata": {},
   "outputs": [],
   "source": []
  }
 ],
 "metadata": {
  "kernelspec": {
   "display_name": "Python 3",
   "language": "python",
   "name": "python3"
  },
  "language_info": {
   "codemirror_mode": {
    "name": "ipython",
    "version": 3
   },
   "file_extension": ".py",
   "mimetype": "text/x-python",
   "name": "python",
   "nbconvert_exporter": "python",
   "pygments_lexer": "ipython3",
   "version": "3.7.5"
  },
  "varInspector": {
   "cols": {
    "lenName": 16,
    "lenType": 16,
    "lenVar": 40
   },
   "kernels_config": {
    "python": {
     "delete_cmd_postfix": "",
     "delete_cmd_prefix": "del ",
     "library": "var_list.py",
     "varRefreshCmd": "print(var_dic_list())"
    },
    "r": {
     "delete_cmd_postfix": ") ",
     "delete_cmd_prefix": "rm(",
     "library": "var_list.r",
     "varRefreshCmd": "cat(var_dic_list()) "
    }
   },
   "types_to_exclude": [
    "module",
    "function",
    "builtin_function_or_method",
    "instance",
    "_Feature"
   ],
   "window_display": false
  }
 },
 "nbformat": 4,
 "nbformat_minor": 4
}
