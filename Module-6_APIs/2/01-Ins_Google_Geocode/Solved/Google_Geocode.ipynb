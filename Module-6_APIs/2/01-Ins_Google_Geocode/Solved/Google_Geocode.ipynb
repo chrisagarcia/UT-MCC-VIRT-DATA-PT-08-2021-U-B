{
 "cells": [
  {
   "cell_type": "code",
   "execution_count": 1,
   "metadata": {},
   "outputs": [],
   "source": [
    "# Dependencies\n",
    "import requests\n",
    "import json\n",
    "from pprint import pprint\n",
    "\n",
    "# Google developer API key\n",
    "from config import gkey\n",
    "\n",
    "# Target city\n",
    "target_city = \"Boise, Idaho\"\n",
    "\n",
    "# Build the endpoint URL\n",
    "base_url = \"https://maps.googleapis.com/maps/api/geocode/json\"\n",
    "params = {\n",
    "    \"address\": target_city,\n",
    "    \"key\": gkey\n",
    "}"
   ]
  },
  {
   "cell_type": "code",
   "execution_count": 2,
   "metadata": {},
   "outputs": [
    {
     "name": "stdout",
     "output_type": "stream",
     "text": [
      "{'results': [{'address_components': [{'long_name': 'Boise',\n",
      "                                      'short_name': 'Boise',\n",
      "                                      'types': ['locality', 'political']},\n",
      "                                     {'long_name': 'Ada County',\n",
      "                                      'short_name': 'Ada County',\n",
      "                                      'types': ['administrative_area_level_2',\n",
      "                                                'political']},\n",
      "                                     {'long_name': 'Idaho',\n",
      "                                      'short_name': 'ID',\n",
      "                                      'types': ['administrative_area_level_1',\n",
      "                                                'political']},\n",
      "                                     {'long_name': 'United States',\n",
      "                                      'short_name': 'US',\n",
      "                                      'types': ['country', 'political']}],\n",
      "              'formatted_address': 'Boise, ID, USA',\n",
      "              'geometry': {'bounds': {'northeast': {'lat': 43.6898951,\n",
      "                                                    'lng': -116.1019091},\n",
      "                                      'southwest': {'lat': 43.511717,\n",
      "                                                    'lng': -116.3658869}},\n",
      "                           'location': {'lat': 43.6150186, 'lng': -116.2023137},\n",
      "                           'location_type': 'APPROXIMATE',\n",
      "                           'viewport': {'northeast': {'lat': 43.6898951,\n",
      "                                                      'lng': -116.1019091},\n",
      "                                        'southwest': {'lat': 43.511717,\n",
      "                                                      'lng': -116.3658869}}},\n",
      "              'place_id': 'ChIJnbRH6XLxrlQRm51nNpuYW5o',\n",
      "              'types': ['locality', 'political']}],\n",
      " 'status': 'OK'}\n"
     ]
    }
   ],
   "source": [
    "# Run a request to endpoint and convert result to json\n",
    "r = requests.get(base_url, params=params)\n",
    "geo_data = r.json()\n",
    "\n",
    "\n",
    "\n",
    "# Print the json\n",
    "pprint(geo_data)"
   ]
  },
  {
   "cell_type": "code",
   "execution_count": 3,
   "metadata": {},
   "outputs": [
    {
     "name": "stdout",
     "output_type": "stream",
     "text": [
      "City: Boise, Idaho Latitude: 43.6150186, Longitude: -116.2023137\n"
     ]
    }
   ],
   "source": [
    "# Extract latitude and longitude\n",
    "lat = geo_data[\"results\"][0][\"geometry\"][\"location\"][\"lat\"]\n",
    "lng = geo_data[\"results\"][0][\"geometry\"][\"location\"][\"lng\"]\n",
    "\n",
    "# Print the city, latitude and longitude\n",
    "print(f'City: {target_city} Latitude: {lat}, Longitude: {lng}')"
   ]
  }
 ],
 "metadata": {
  "anaconda-cloud": {},
  "kernelspec": {
   "display_name": "Python 3",
   "language": "python",
   "name": "python3"
  },
  "language_info": {
   "codemirror_mode": {
    "name": "ipython",
    "version": 3
   },
   "file_extension": ".py",
   "mimetype": "text/x-python",
   "name": "python",
   "nbconvert_exporter": "python",
   "pygments_lexer": "ipython3",
   "version": "3.7.5"
  }
 },
 "nbformat": 4,
 "nbformat_minor": 4
}
